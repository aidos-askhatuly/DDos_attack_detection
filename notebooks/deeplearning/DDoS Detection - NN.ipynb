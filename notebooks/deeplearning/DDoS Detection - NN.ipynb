{
 "cells": [
  {
   "cell_type": "markdown",
   "id": "3ee7aabf-1ed0-4289-a684-4090f074421d",
   "metadata": {},
   "source": [
    "This notebooks is for working with Dense Neural Network."
   ]
  },
  {
   "cell_type": "markdown",
   "id": "befe637b-7fab-4d3a-a16d-5f1e55bc1e51",
   "metadata": {
    "jp-MarkdownHeadingCollapsed": true,
    "tags": []
   },
   "source": [
    "## 4. Preprocessing"
   ]
  },
  {
   "cell_type": "code",
   "execution_count": 601,
   "id": "a48b58be-444c-477a-8a15-e042b1f01c84",
   "metadata": {
    "tags": []
   },
   "outputs": [],
   "source": [
    "import pandas as pd\n",
    "import matplotlib.pyplot as plt"
   ]
  },
  {
   "cell_type": "markdown",
   "id": "caac8e3e-7583-440b-bb01-a30a879e3f0c",
   "metadata": {},
   "source": [
    "Let's read the pre-porcessed data."
   ]
  },
  {
   "cell_type": "code",
   "execution_count": 602,
   "id": "b3bd575b-24f6-46c2-85be-84521b326ca9",
   "metadata": {
    "tags": []
   },
   "outputs": [],
   "source": [
    "network_df2=pd.read_csv('network_preprocessed.csv')"
   ]
  },
  {
   "cell_type": "code",
   "execution_count": 603,
   "id": "19e95ec0-32d0-489a-853c-e61815701cf2",
   "metadata": {
    "tags": []
   },
   "outputs": [
    {
     "data": {
      "text/plain": [
       "(2160668, 23)"
      ]
     },
     "execution_count": 603,
     "metadata": {},
     "output_type": "execute_result"
    }
   ],
   "source": [
    "network_df2.shape"
   ]
  },
  {
   "cell_type": "markdown",
   "id": "71318ace-a707-434a-8942-d5313af1748f",
   "metadata": {
    "jp-MarkdownHeadingCollapsed": true,
    "tags": []
   },
   "source": [
    "### 4.1 Split the dataset into train and test"
   ]
  },
  {
   "cell_type": "code",
   "execution_count": 604,
   "id": "cf6ba228-e588-4185-8d25-30e569d757cb",
   "metadata": {
    "tags": []
   },
   "outputs": [],
   "source": [
    "network_df2.head()\n",
    "\n",
    "X=network_df2.drop(columns='PKT_CLASS')\n",
    "y=network_df2['PKT_CLASS']"
   ]
  },
  {
   "cell_type": "code",
   "execution_count": 605,
   "id": "040c8192-0657-4c2c-8af0-96630a123c55",
   "metadata": {
    "tags": []
   },
   "outputs": [
    {
     "data": {
      "text/html": [
       "<div>\n",
       "<style scoped>\n",
       "    .dataframe tbody tr th:only-of-type {\n",
       "        vertical-align: middle;\n",
       "    }\n",
       "\n",
       "    .dataframe tbody tr th {\n",
       "        vertical-align: top;\n",
       "    }\n",
       "\n",
       "    .dataframe thead th {\n",
       "        text-align: right;\n",
       "    }\n",
       "</style>\n",
       "<table border=\"1\" class=\"dataframe\">\n",
       "  <thead>\n",
       "    <tr style=\"text-align: right;\">\n",
       "      <th></th>\n",
       "      <th>PKT_SIZE</th>\n",
       "      <th>FLAGS</th>\n",
       "      <th>FID</th>\n",
       "      <th>SEQ_NUMBER</th>\n",
       "      <th>NUMBER_OF_PKT</th>\n",
       "      <th>PKT_DELAY_NODE</th>\n",
       "      <th>PKT_RATE</th>\n",
       "      <th>BYTE_RATE</th>\n",
       "      <th>UTILIZATION</th>\n",
       "      <th>PKT_DELAY</th>\n",
       "      <th>...</th>\n",
       "      <th>LAST_PKT_RESEVED</th>\n",
       "      <th>pkt_type__cbr</th>\n",
       "      <th>pkt_type__ping</th>\n",
       "      <th>pkt_type__tcp</th>\n",
       "      <th>to__Router</th>\n",
       "      <th>to__Server</th>\n",
       "      <th>to__Switch</th>\n",
       "      <th>from__Router</th>\n",
       "      <th>from__Server</th>\n",
       "      <th>from__Switch</th>\n",
       "    </tr>\n",
       "  </thead>\n",
       "  <tbody>\n",
       "    <tr>\n",
       "      <th>0</th>\n",
       "      <td>1540</td>\n",
       "      <td>1</td>\n",
       "      <td>4</td>\n",
       "      <td>11339</td>\n",
       "      <td>16091</td>\n",
       "      <td>0.0</td>\n",
       "      <td>328.240918</td>\n",
       "      <td>505490.0</td>\n",
       "      <td>0.236321</td>\n",
       "      <td>0.0</td>\n",
       "      <td>...</td>\n",
       "      <td>50.021920</td>\n",
       "      <td>0</td>\n",
       "      <td>0</td>\n",
       "      <td>1</td>\n",
       "      <td>1</td>\n",
       "      <td>0</td>\n",
       "      <td>0</td>\n",
       "      <td>0</td>\n",
       "      <td>0</td>\n",
       "      <td>1</td>\n",
       "    </tr>\n",
       "    <tr>\n",
       "      <th>1</th>\n",
       "      <td>1540</td>\n",
       "      <td>1</td>\n",
       "      <td>16</td>\n",
       "      <td>6274</td>\n",
       "      <td>16092</td>\n",
       "      <td>0.0</td>\n",
       "      <td>328.205808</td>\n",
       "      <td>505437.0</td>\n",
       "      <td>0.236337</td>\n",
       "      <td>0.0</td>\n",
       "      <td>...</td>\n",
       "      <td>50.030211</td>\n",
       "      <td>0</td>\n",
       "      <td>0</td>\n",
       "      <td>1</td>\n",
       "      <td>0</td>\n",
       "      <td>1</td>\n",
       "      <td>0</td>\n",
       "      <td>1</td>\n",
       "      <td>0</td>\n",
       "      <td>0</td>\n",
       "    </tr>\n",
       "    <tr>\n",
       "      <th>2</th>\n",
       "      <td>55</td>\n",
       "      <td>1</td>\n",
       "      <td>16</td>\n",
       "      <td>1930</td>\n",
       "      <td>16092</td>\n",
       "      <td>0.0</td>\n",
       "      <td>328.206042</td>\n",
       "      <td>18051.3</td>\n",
       "      <td>0.008441</td>\n",
       "      <td>0.0</td>\n",
       "      <td>...</td>\n",
       "      <td>50.060221</td>\n",
       "      <td>0</td>\n",
       "      <td>0</td>\n",
       "      <td>0</td>\n",
       "      <td>0</td>\n",
       "      <td>0</td>\n",
       "      <td>1</td>\n",
       "      <td>1</td>\n",
       "      <td>0</td>\n",
       "      <td>0</td>\n",
       "    </tr>\n",
       "    <tr>\n",
       "      <th>3</th>\n",
       "      <td>55</td>\n",
       "      <td>1</td>\n",
       "      <td>10</td>\n",
       "      <td>12670</td>\n",
       "      <td>16085</td>\n",
       "      <td>0.0</td>\n",
       "      <td>328.064183</td>\n",
       "      <td>18043.5</td>\n",
       "      <td>0.008437</td>\n",
       "      <td>0.0</td>\n",
       "      <td>...</td>\n",
       "      <td>50.060098</td>\n",
       "      <td>0</td>\n",
       "      <td>0</td>\n",
       "      <td>0</td>\n",
       "      <td>0</td>\n",
       "      <td>0</td>\n",
       "      <td>1</td>\n",
       "      <td>1</td>\n",
       "      <td>0</td>\n",
       "      <td>0</td>\n",
       "    </tr>\n",
       "    <tr>\n",
       "      <th>4</th>\n",
       "      <td>55</td>\n",
       "      <td>1</td>\n",
       "      <td>9</td>\n",
       "      <td>4901</td>\n",
       "      <td>16088</td>\n",
       "      <td>0.0</td>\n",
       "      <td>328.113525</td>\n",
       "      <td>18046.2</td>\n",
       "      <td>0.008438</td>\n",
       "      <td>0.0</td>\n",
       "      <td>...</td>\n",
       "      <td>50.061864</td>\n",
       "      <td>0</td>\n",
       "      <td>0</td>\n",
       "      <td>0</td>\n",
       "      <td>0</td>\n",
       "      <td>0</td>\n",
       "      <td>1</td>\n",
       "      <td>1</td>\n",
       "      <td>0</td>\n",
       "      <td>0</td>\n",
       "    </tr>\n",
       "  </tbody>\n",
       "</table>\n",
       "<p>5 rows × 22 columns</p>\n",
       "</div>"
      ],
      "text/plain": [
       "   PKT_SIZE  FLAGS  FID  SEQ_NUMBER  NUMBER_OF_PKT  PKT_DELAY_NODE  \\\n",
       "0      1540      1    4       11339          16091             0.0   \n",
       "1      1540      1   16        6274          16092             0.0   \n",
       "2        55      1   16        1930          16092             0.0   \n",
       "3        55      1   10       12670          16085             0.0   \n",
       "4        55      1    9        4901          16088             0.0   \n",
       "\n",
       "     PKT_RATE  BYTE_RATE  UTILIZATION  PKT_DELAY  ...  LAST_PKT_RESEVED  \\\n",
       "0  328.240918   505490.0     0.236321        0.0  ...         50.021920   \n",
       "1  328.205808   505437.0     0.236337        0.0  ...         50.030211   \n",
       "2  328.206042    18051.3     0.008441        0.0  ...         50.060221   \n",
       "3  328.064183    18043.5     0.008437        0.0  ...         50.060098   \n",
       "4  328.113525    18046.2     0.008438        0.0  ...         50.061864   \n",
       "\n",
       "   pkt_type__cbr  pkt_type__ping  pkt_type__tcp  to__Router  to__Server  \\\n",
       "0              0               0              1           1           0   \n",
       "1              0               0              1           0           1   \n",
       "2              0               0              0           0           0   \n",
       "3              0               0              0           0           0   \n",
       "4              0               0              0           0           0   \n",
       "\n",
       "   to__Switch  from__Router  from__Server  from__Switch  \n",
       "0           0             0             0             1  \n",
       "1           0             1             0             0  \n",
       "2           1             1             0             0  \n",
       "3           1             1             0             0  \n",
       "4           1             1             0             0  \n",
       "\n",
       "[5 rows x 22 columns]"
      ]
     },
     "execution_count": 605,
     "metadata": {},
     "output_type": "execute_result"
    }
   ],
   "source": [
    "X.head()"
   ]
  },
  {
   "cell_type": "code",
   "execution_count": 606,
   "id": "e1f2f79a-7fcd-46ce-9e30-26fedbfd1ef3",
   "metadata": {},
   "outputs": [],
   "source": [
    "from sklearn.model_selection import train_test_split\n",
    "\n",
    "X_train, X_test, y_train, y_test = train_test_split(X, y, test_size=0.2, random_state=42, stratify=y)"
   ]
  },
  {
   "cell_type": "code",
   "execution_count": 607,
   "id": "ca495b40-0fa5-4d55-8f38-ceb343f187db",
   "metadata": {
    "tags": []
   },
   "outputs": [
    {
     "data": {
      "text/html": [
       "<div>\n",
       "<style scoped>\n",
       "    .dataframe tbody tr th:only-of-type {\n",
       "        vertical-align: middle;\n",
       "    }\n",
       "\n",
       "    .dataframe tbody tr th {\n",
       "        vertical-align: top;\n",
       "    }\n",
       "\n",
       "    .dataframe thead th {\n",
       "        text-align: right;\n",
       "    }\n",
       "</style>\n",
       "<table border=\"1\" class=\"dataframe\">\n",
       "  <thead>\n",
       "    <tr style=\"text-align: right;\">\n",
       "      <th></th>\n",
       "      <th>PKT_SIZE</th>\n",
       "      <th>FLAGS</th>\n",
       "      <th>FID</th>\n",
       "      <th>SEQ_NUMBER</th>\n",
       "      <th>NUMBER_OF_PKT</th>\n",
       "      <th>PKT_DELAY_NODE</th>\n",
       "      <th>PKT_RATE</th>\n",
       "      <th>BYTE_RATE</th>\n",
       "      <th>UTILIZATION</th>\n",
       "      <th>PKT_DELAY</th>\n",
       "      <th>...</th>\n",
       "      <th>LAST_PKT_RESEVED</th>\n",
       "      <th>pkt_type__cbr</th>\n",
       "      <th>pkt_type__ping</th>\n",
       "      <th>pkt_type__tcp</th>\n",
       "      <th>to__Router</th>\n",
       "      <th>to__Server</th>\n",
       "      <th>to__Switch</th>\n",
       "      <th>from__Router</th>\n",
       "      <th>from__Server</th>\n",
       "      <th>from__Switch</th>\n",
       "    </tr>\n",
       "  </thead>\n",
       "  <tbody>\n",
       "    <tr>\n",
       "      <th>1705294</th>\n",
       "      <td>55</td>\n",
       "      <td>1</td>\n",
       "      <td>2</td>\n",
       "      <td>13666</td>\n",
       "      <td>16091</td>\n",
       "      <td>0.000000</td>\n",
       "      <td>328.297902</td>\n",
       "      <td>18056.4</td>\n",
       "      <td>0.008440</td>\n",
       "      <td>0.000000</td>\n",
       "      <td>...</td>\n",
       "      <td>50.043427</td>\n",
       "      <td>0</td>\n",
       "      <td>0</td>\n",
       "      <td>0</td>\n",
       "      <td>0</td>\n",
       "      <td>0</td>\n",
       "      <td>1</td>\n",
       "      <td>1</td>\n",
       "      <td>0</td>\n",
       "      <td>0</td>\n",
       "    </tr>\n",
       "    <tr>\n",
       "      <th>1530070</th>\n",
       "      <td>1540</td>\n",
       "      <td>1</td>\n",
       "      <td>13</td>\n",
       "      <td>14142</td>\n",
       "      <td>16103</td>\n",
       "      <td>0.000627</td>\n",
       "      <td>328.491489</td>\n",
       "      <td>505876.0</td>\n",
       "      <td>0.236498</td>\n",
       "      <td>0.001477</td>\n",
       "      <td>...</td>\n",
       "      <td>50.021057</td>\n",
       "      <td>0</td>\n",
       "      <td>0</td>\n",
       "      <td>1</td>\n",
       "      <td>1</td>\n",
       "      <td>0</td>\n",
       "      <td>0</td>\n",
       "      <td>0</td>\n",
       "      <td>0</td>\n",
       "      <td>1</td>\n",
       "    </tr>\n",
       "    <tr>\n",
       "      <th>966649</th>\n",
       "      <td>1540</td>\n",
       "      <td>1</td>\n",
       "      <td>4</td>\n",
       "      <td>882</td>\n",
       "      <td>16091</td>\n",
       "      <td>0.000000</td>\n",
       "      <td>328.240918</td>\n",
       "      <td>505490.0</td>\n",
       "      <td>0.236321</td>\n",
       "      <td>0.000000</td>\n",
       "      <td>...</td>\n",
       "      <td>50.021920</td>\n",
       "      <td>0</td>\n",
       "      <td>0</td>\n",
       "      <td>1</td>\n",
       "      <td>0</td>\n",
       "      <td>0</td>\n",
       "      <td>1</td>\n",
       "      <td>0</td>\n",
       "      <td>0</td>\n",
       "      <td>0</td>\n",
       "    </tr>\n",
       "    <tr>\n",
       "      <th>348199</th>\n",
       "      <td>65535</td>\n",
       "      <td>1</td>\n",
       "      <td>0</td>\n",
       "      <td>-1</td>\n",
       "      <td>210</td>\n",
       "      <td>0.005243</td>\n",
       "      <td>23.188498</td>\n",
       "      <td>1519660.0</td>\n",
       "      <td>0.131248</td>\n",
       "      <td>0.056214</td>\n",
       "      <td>...</td>\n",
       "      <td>9.056214</td>\n",
       "      <td>0</td>\n",
       "      <td>1</td>\n",
       "      <td>0</td>\n",
       "      <td>0</td>\n",
       "      <td>1</td>\n",
       "      <td>0</td>\n",
       "      <td>1</td>\n",
       "      <td>0</td>\n",
       "      <td>0</td>\n",
       "    </tr>\n",
       "    <tr>\n",
       "      <th>374424</th>\n",
       "      <td>1000</td>\n",
       "      <td>1</td>\n",
       "      <td>21</td>\n",
       "      <td>1990</td>\n",
       "      <td>6250</td>\n",
       "      <td>0.000000</td>\n",
       "      <td>124.944425</td>\n",
       "      <td>124944.0</td>\n",
       "      <td>0.059605</td>\n",
       "      <td>0.000131</td>\n",
       "      <td>...</td>\n",
       "      <td>75.022240</td>\n",
       "      <td>1</td>\n",
       "      <td>0</td>\n",
       "      <td>0</td>\n",
       "      <td>0</td>\n",
       "      <td>0</td>\n",
       "      <td>1</td>\n",
       "      <td>0</td>\n",
       "      <td>0</td>\n",
       "      <td>0</td>\n",
       "    </tr>\n",
       "    <tr>\n",
       "      <th>...</th>\n",
       "      <td>...</td>\n",
       "      <td>...</td>\n",
       "      <td>...</td>\n",
       "      <td>...</td>\n",
       "      <td>...</td>\n",
       "      <td>...</td>\n",
       "      <td>...</td>\n",
       "      <td>...</td>\n",
       "      <td>...</td>\n",
       "      <td>...</td>\n",
       "      <td>...</td>\n",
       "      <td>...</td>\n",
       "      <td>...</td>\n",
       "      <td>...</td>\n",
       "      <td>...</td>\n",
       "      <td>...</td>\n",
       "      <td>...</td>\n",
       "      <td>...</td>\n",
       "      <td>...</td>\n",
       "      <td>...</td>\n",
       "      <td>...</td>\n",
       "    </tr>\n",
       "    <tr>\n",
       "      <th>1145968</th>\n",
       "      <td>1000</td>\n",
       "      <td>1</td>\n",
       "      <td>39</td>\n",
       "      <td>5358</td>\n",
       "      <td>6250</td>\n",
       "      <td>0.000640</td>\n",
       "      <td>124.941028</td>\n",
       "      <td>124941.0</td>\n",
       "      <td>0.059605</td>\n",
       "      <td>0.001360</td>\n",
       "      <td>...</td>\n",
       "      <td>75.023600</td>\n",
       "      <td>1</td>\n",
       "      <td>0</td>\n",
       "      <td>0</td>\n",
       "      <td>1</td>\n",
       "      <td>0</td>\n",
       "      <td>0</td>\n",
       "      <td>0</td>\n",
       "      <td>0</td>\n",
       "      <td>1</td>\n",
       "    </tr>\n",
       "    <tr>\n",
       "      <th>178052</th>\n",
       "      <td>55</td>\n",
       "      <td>1</td>\n",
       "      <td>16</td>\n",
       "      <td>1106</td>\n",
       "      <td>16092</td>\n",
       "      <td>0.000000</td>\n",
       "      <td>328.206042</td>\n",
       "      <td>18051.3</td>\n",
       "      <td>0.008441</td>\n",
       "      <td>0.000000</td>\n",
       "      <td>...</td>\n",
       "      <td>50.060221</td>\n",
       "      <td>0</td>\n",
       "      <td>0</td>\n",
       "      <td>0</td>\n",
       "      <td>0</td>\n",
       "      <td>0</td>\n",
       "      <td>0</td>\n",
       "      <td>0</td>\n",
       "      <td>0</td>\n",
       "      <td>1</td>\n",
       "    </tr>\n",
       "    <tr>\n",
       "      <th>711599</th>\n",
       "      <td>1000</td>\n",
       "      <td>1</td>\n",
       "      <td>33</td>\n",
       "      <td>2166</td>\n",
       "      <td>6250</td>\n",
       "      <td>0.000229</td>\n",
       "      <td>124.943426</td>\n",
       "      <td>124943.0</td>\n",
       "      <td>0.059605</td>\n",
       "      <td>0.000389</td>\n",
       "      <td>...</td>\n",
       "      <td>75.022640</td>\n",
       "      <td>1</td>\n",
       "      <td>0</td>\n",
       "      <td>0</td>\n",
       "      <td>0</td>\n",
       "      <td>1</td>\n",
       "      <td>0</td>\n",
       "      <td>1</td>\n",
       "      <td>0</td>\n",
       "      <td>0</td>\n",
       "    </tr>\n",
       "    <tr>\n",
       "      <th>787114</th>\n",
       "      <td>1500</td>\n",
       "      <td>1</td>\n",
       "      <td>37</td>\n",
       "      <td>2028</td>\n",
       "      <td>9108</td>\n",
       "      <td>0.000360</td>\n",
       "      <td>1016.430848</td>\n",
       "      <td>1524650.0</td>\n",
       "      <td>0.130291</td>\n",
       "      <td>0.031200</td>\n",
       "      <td>...</td>\n",
       "      <td>9.960767</td>\n",
       "      <td>1</td>\n",
       "      <td>0</td>\n",
       "      <td>0</td>\n",
       "      <td>1</td>\n",
       "      <td>0</td>\n",
       "      <td>0</td>\n",
       "      <td>0</td>\n",
       "      <td>0</td>\n",
       "      <td>1</td>\n",
       "    </tr>\n",
       "    <tr>\n",
       "      <th>278790</th>\n",
       "      <td>1540</td>\n",
       "      <td>1</td>\n",
       "      <td>1</td>\n",
       "      <td>11675</td>\n",
       "      <td>16091</td>\n",
       "      <td>0.000944</td>\n",
       "      <td>328.316229</td>\n",
       "      <td>505606.0</td>\n",
       "      <td>0.236321</td>\n",
       "      <td>0.001723</td>\n",
       "      <td>...</td>\n",
       "      <td>50.010675</td>\n",
       "      <td>0</td>\n",
       "      <td>0</td>\n",
       "      <td>1</td>\n",
       "      <td>0</td>\n",
       "      <td>1</td>\n",
       "      <td>0</td>\n",
       "      <td>1</td>\n",
       "      <td>0</td>\n",
       "      <td>0</td>\n",
       "    </tr>\n",
       "  </tbody>\n",
       "</table>\n",
       "<p>1728534 rows × 22 columns</p>\n",
       "</div>"
      ],
      "text/plain": [
       "         PKT_SIZE  FLAGS  FID  SEQ_NUMBER  NUMBER_OF_PKT  PKT_DELAY_NODE  \\\n",
       "1705294        55      1    2       13666          16091        0.000000   \n",
       "1530070      1540      1   13       14142          16103        0.000627   \n",
       "966649       1540      1    4         882          16091        0.000000   \n",
       "348199      65535      1    0          -1            210        0.005243   \n",
       "374424       1000      1   21        1990           6250        0.000000   \n",
       "...           ...    ...  ...         ...            ...             ...   \n",
       "1145968      1000      1   39        5358           6250        0.000640   \n",
       "178052         55      1   16        1106          16092        0.000000   \n",
       "711599       1000      1   33        2166           6250        0.000229   \n",
       "787114       1500      1   37        2028           9108        0.000360   \n",
       "278790       1540      1    1       11675          16091        0.000944   \n",
       "\n",
       "            PKT_RATE  BYTE_RATE  UTILIZATION  PKT_DELAY  ...  \\\n",
       "1705294   328.297902    18056.4     0.008440   0.000000  ...   \n",
       "1530070   328.491489   505876.0     0.236498   0.001477  ...   \n",
       "966649    328.240918   505490.0     0.236321   0.000000  ...   \n",
       "348199     23.188498  1519660.0     0.131248   0.056214  ...   \n",
       "374424    124.944425   124944.0     0.059605   0.000131  ...   \n",
       "...              ...        ...          ...        ...  ...   \n",
       "1145968   124.941028   124941.0     0.059605   0.001360  ...   \n",
       "178052    328.206042    18051.3     0.008441   0.000000  ...   \n",
       "711599    124.943426   124943.0     0.059605   0.000389  ...   \n",
       "787114   1016.430848  1524650.0     0.130291   0.031200  ...   \n",
       "278790    328.316229   505606.0     0.236321   0.001723  ...   \n",
       "\n",
       "         LAST_PKT_RESEVED  pkt_type__cbr  pkt_type__ping  pkt_type__tcp  \\\n",
       "1705294         50.043427              0               0              0   \n",
       "1530070         50.021057              0               0              1   \n",
       "966649          50.021920              0               0              1   \n",
       "348199           9.056214              0               1              0   \n",
       "374424          75.022240              1               0              0   \n",
       "...                   ...            ...             ...            ...   \n",
       "1145968         75.023600              1               0              0   \n",
       "178052          50.060221              0               0              0   \n",
       "711599          75.022640              1               0              0   \n",
       "787114           9.960767              1               0              0   \n",
       "278790          50.010675              0               0              1   \n",
       "\n",
       "         to__Router  to__Server  to__Switch  from__Router  from__Server  \\\n",
       "1705294           0           0           1             1             0   \n",
       "1530070           1           0           0             0             0   \n",
       "966649            0           0           1             0             0   \n",
       "348199            0           1           0             1             0   \n",
       "374424            0           0           1             0             0   \n",
       "...             ...         ...         ...           ...           ...   \n",
       "1145968           1           0           0             0             0   \n",
       "178052            0           0           0             0             0   \n",
       "711599            0           1           0             1             0   \n",
       "787114            1           0           0             0             0   \n",
       "278790            0           1           0             1             0   \n",
       "\n",
       "         from__Switch  \n",
       "1705294             0  \n",
       "1530070             1  \n",
       "966649              0  \n",
       "348199              0  \n",
       "374424              0  \n",
       "...               ...  \n",
       "1145968             1  \n",
       "178052              1  \n",
       "711599              0  \n",
       "787114              1  \n",
       "278790              0  \n",
       "\n",
       "[1728534 rows x 22 columns]"
      ]
     },
     "execution_count": 607,
     "metadata": {},
     "output_type": "execute_result"
    }
   ],
   "source": [
    "X_train"
   ]
  },
  {
   "cell_type": "markdown",
   "id": "42b4c9a2-f43f-4efe-8b2d-bf4673f77192",
   "metadata": {
    "jp-MarkdownHeadingCollapsed": true,
    "tags": []
   },
   "source": [
    " ### 4.2 Balance the target class using Under Sampling"
   ]
  },
  {
   "cell_type": "markdown",
   "id": "14e73d54-e326-4524-9a9e-6e33d91d9b30",
   "metadata": {
    "tags": []
   },
   "source": [
    "As undersampling and oversampling showed similar performance for Logistic Regression and XGBoost, we decided to use undersampling to work with \n",
    "Dense Neural Network."
   ]
  },
  {
   "cell_type": "code",
   "execution_count": 608,
   "id": "d2b462ea-bfbd-4ffb-b605-f70dc7652649",
   "metadata": {
    "tags": []
   },
   "outputs": [],
   "source": [
    "from imblearn.under_sampling import RandomUnderSampler\n",
    "\n",
    "# Define the RandomUnderSampler\n",
    "undersampler = RandomUnderSampler(random_state=42)\n",
    "\n",
    "# Fit and apply the undersampler to the training data\n",
    "X_train_resampled, y_train_resampled = undersampler.fit_resample(X_train, y_train)\n",
    "# Now X_train_resampled and y_train_resampled contain the balanced dataset"
   ]
  },
  {
   "cell_type": "markdown",
   "id": "509db38a-cac1-475f-aa8b-4c72f3a77a70",
   "metadata": {
    "jp-MarkdownHeadingCollapsed": true,
    "tags": []
   },
   "source": [
    "### 4.3 Feature Scaling"
   ]
  },
  {
   "cell_type": "code",
   "execution_count": 609,
   "id": "7d4c2ef4-09f4-4164-b652-cd8eb553f257",
   "metadata": {
    "tags": []
   },
   "outputs": [],
   "source": [
    "from sklearn.preprocessing import StandardScaler\n",
    "\n",
    "# Initialize the StandardScaler\n",
    "scaler = StandardScaler()\n",
    "\n",
    "# Fit the scaler on the training data\n",
    "scaler.fit(X_train_resampled)\n",
    "\n",
    "# Transform both the training and testing data using the fitted scaler\n",
    "X_train_scaled = scaler.transform(X_train_resampled)\n",
    "X_test_scaled = scaler.transform(X_test)  # Use the same scaler fitted on X_train\n"
   ]
  },
  {
   "cell_type": "markdown",
   "id": "7dd5d7f4-e2d8-41cb-b66c-8e4eb551d23e",
   "metadata": {
    "tags": []
   },
   "source": [
    "## 5.Modelling With Neural Network"
   ]
  },
  {
   "cell_type": "code",
   "execution_count": 182,
   "id": "d0d89e18-4370-4328-9e6a-15362c592dc8",
   "metadata": {
    "tags": []
   },
   "outputs": [
    {
     "data": {
      "text/plain": [
       "(1728534,)"
      ]
     },
     "execution_count": 182,
     "metadata": {},
     "output_type": "execute_result"
    }
   ],
   "source": [
    "y_train.shape"
   ]
  },
  {
   "cell_type": "code",
   "execution_count": 629,
   "id": "a74bb91d-b5fd-4a9e-827e-2dd68a2a3fc5",
   "metadata": {
    "tags": []
   },
   "outputs": [],
   "source": [
    "import tensorflow as tf\n",
    "from tensorflow import keras\n",
    "from tensorflow.keras import layers\n",
    "from tensorflow.keras.models import Sequential\n",
    "from tensorflow.keras.layers import Dense\n",
    "from sklearn.model_selection import train_test_split\n",
    "from tensorflow.keras.callbacks import EarlyStopping"
   ]
  },
  {
   "cell_type": "code",
   "execution_count": 637,
   "id": "d2022069-51a7-4439-990f-85530b478082",
   "metadata": {
    "tags": []
   },
   "outputs": [],
   "source": [
    "# Create a new sequential model\n",
    "model = keras.Sequential()\n",
    "\n",
    "# Add input layer with 22 features\n",
    "model.add(Dense(32, input_dim=22, activation='tanh'))\n",
    "\n",
    "\n",
    "# Declare the hidden layers (5 layers with 32 nodes each)\n",
    "for i in range (0, 5):\n",
    "    model.add(layers.Dense(32, activation=\"tanh\"))\n",
    "    model.add(layers.Dropout(0.3)) # Set 30% of the nodes to 0.\n",
    "    model.add(layers.BatchNormalization()) \n",
    "\n",
    "# Declare the output layer\n",
    "model.add(layers.Dense(1, activation=\"relu\"))"
   ]
  },
  {
   "cell_type": "code",
   "execution_count": 638,
   "id": "720874d4-ecac-4bad-b995-138cd5e2afc8",
   "metadata": {
    "tags": []
   },
   "outputs": [],
   "source": [
    "# Define early stopping callback\n",
    "early_stopping = EarlyStopping(monitor='val_loss',  # Monitor validation loss\n",
    "                               patience=3,         # Number of epochs with no improvement after which training will be stopped\n",
    "                               restore_best_weights=True)  # Restore model weights from the epoch with the best value of the monitored metric"
   ]
  },
  {
   "cell_type": "code",
   "execution_count": 639,
   "id": "a9bfddce-be92-4def-a8b4-435a54228c03",
   "metadata": {},
   "outputs": [
    {
     "name": "stdout",
     "output_type": "stream",
     "text": [
      "Epoch 1/10\n",
      "2809/2809 [==============================] - 10s 3ms/step - loss: 1.2460 - binary_accuracy: 0.9066 - recall_109: 0.8516 - val_loss: 0.3595 - val_binary_accuracy: 0.9764 - val_recall_109: 0.8761\n",
      "Epoch 2/10\n",
      "2809/2809 [==============================] - 9s 3ms/step - loss: 1.0599 - binary_accuracy: 0.9280 - recall_109: 0.8725 - val_loss: 0.2729 - val_binary_accuracy: 0.9820 - val_recall_109: 0.8752\n",
      "Epoch 3/10\n",
      "2809/2809 [==============================] - 8s 3ms/step - loss: 1.0230 - binary_accuracy: 0.9321 - recall_109: 0.8720 - val_loss: 0.2593 - val_binary_accuracy: 0.9830 - val_recall_109: 0.8750\n",
      "Epoch 4/10\n",
      "2809/2809 [==============================] - 8s 3ms/step - loss: 1.0039 - binary_accuracy: 0.9341 - recall_109: 0.8720 - val_loss: 0.2133 - val_binary_accuracy: 0.9861 - val_recall_109: 0.8745\n",
      "Epoch 5/10\n",
      "2809/2809 [==============================] - 8s 3ms/step - loss: 0.9974 - binary_accuracy: 0.9350 - recall_109: 0.8717 - val_loss: 0.2247 - val_binary_accuracy: 0.9854 - val_recall_109: 0.8747\n",
      "Epoch 6/10\n",
      "2809/2809 [==============================] - 9s 3ms/step - loss: 0.9938 - binary_accuracy: 0.9354 - recall_109: 0.8721 - val_loss: 0.2111 - val_binary_accuracy: 0.9863 - val_recall_109: 0.8746\n",
      "Epoch 7/10\n",
      "2809/2809 [==============================] - 9s 3ms/step - loss: 0.9886 - binary_accuracy: 0.9358 - recall_109: 0.8725 - val_loss: 0.2108 - val_binary_accuracy: 0.9863 - val_recall_109: 0.8745\n",
      "Epoch 8/10\n",
      "2809/2809 [==============================] - 9s 3ms/step - loss: 0.9891 - binary_accuracy: 0.9358 - recall_109: 0.8724 - val_loss: 0.2109 - val_binary_accuracy: 0.9863 - val_recall_109: 0.8745\n",
      "Epoch 9/10\n",
      "2809/2809 [==============================] - 9s 3ms/step - loss: 0.9894 - binary_accuracy: 0.9358 - recall_109: 0.8725 - val_loss: 0.2137 - val_binary_accuracy: 0.9861 - val_recall_109: 0.8746\n",
      "Epoch 10/10\n",
      "2809/2809 [==============================] - 9s 3ms/step - loss: 0.9890 - binary_accuracy: 0.9359 - recall_109: 0.8725 - val_loss: 0.2159 - val_binary_accuracy: 0.9860 - val_recall_109: 0.8746\n",
      "87.50551772117615 seconds\n"
     ]
    }
   ],
   "source": [
    "import time\n",
    "start = time.time()\n",
    "# Compile the model\n",
    "model.compile(optimizer=tf.keras.optimizers.Adam(), \n",
    "              loss='binary_crossentropy', \n",
    "              metrics=[keras.metrics.BinaryAccuracy(),\n",
    "                       keras.metrics.Recall()]\n",
    "             )\n",
    "\n",
    "# fit model\n",
    "history = model.fit(X_train_scaled, \n",
    "                    y_train_resampled,\n",
    "                    batch_size=128, #batch processing\n",
    "                    validation_data=(X_test_scaled, y_test), \n",
    "                    epochs=10, \n",
    "                    verbose=1,\n",
    "                    callbacks=[early_stopping], #early stopping\n",
    "                    workers=-1, \n",
    "                    use_multiprocessing=True)\n",
    "\n",
    "end = time.time()\n",
    "\n",
    "print (end-start, \"seconds\")"
   ]
  },
  {
   "cell_type": "code",
   "execution_count": 640,
   "id": "25d37e84-c81e-42b0-8d6c-f5825eb7bc07",
   "metadata": {
    "tags": []
   },
   "outputs": [
    {
     "name": "stdout",
     "output_type": "stream",
     "text": [
      "11236/11236 [==============================] - 8s 674us/step - loss: 0.9872 - binary_accuracy: 0.9360 - recall_109: 0.8726\n",
      "13505/13505 [==============================] - 9s 675us/step - loss: 0.2108 - binary_accuracy: 0.9863 - recall_109: 0.8745\n"
     ]
    }
   ],
   "source": [
    "# evaluate the model\n",
    "train_acc = model.evaluate(X_train_scaled, y_train_resampled, verbose=1)\n",
    "test_acc = model.evaluate(X_test_scaled, y_test, verbose=1)"
   ]
  },
  {
   "cell_type": "code",
   "execution_count": 641,
   "id": "8229f223-a178-45da-bbc4-5b4504712064",
   "metadata": {},
   "outputs": [
    {
     "data": {
      "text/plain": [
       "<matplotlib.legend.Legend at 0x1fb9d91cfa0>"
      ]
     },
     "execution_count": 641,
     "metadata": {},
     "output_type": "execute_result"
    },
    {
     "data": {
      "image/png": "[encoded data removed]",
      "text/plain": [
       "<Figure size 640x480 with 1 Axes>"
      ]
     },
     "metadata": {},
     "output_type": "display_data"
    }
   ],
   "source": [
    "import matplotlib.pyplot as plt\n",
    "# plot loss during training\n",
    "plt.subplot(211)\n",
    "plt.title('Loss')\n",
    "plt.plot(history.history['loss'], label='train')\n",
    "plt.plot(history.history['val_loss'], label='test')\n",
    "plt.grid()\n",
    "plt.legend()"
   ]
  },
  {
   "cell_type": "code",
   "execution_count": 645,
   "id": "cd207a33-0421-4480-8b1a-259cc06dd7b6",
   "metadata": {
    "tags": []
   },
   "outputs": [
    {
     "data": {
      "image/png": "[encoded data removed]",
      "text/plain": [
       "<Figure size 640x480 with 1 Axes>"
      ]
     },
     "metadata": {},
     "output_type": "display_data"
    }
   ],
   "source": [
    "# plot accuracy during training\n",
    "plt.subplot(212)\n",
    "plt.title('Recall')\n",
    "plt.plot(history.history['recall_109'], label='train')\n",
    "plt.plot(history.history['val_recall_109'], label='test')\n",
    "plt.legend()\n",
    "plt.grid()\n",
    "plt.show()"
   ]
  },
  {
   "cell_type": "code",
   "execution_count": 646,
   "id": "d7a7c8e3-ee70-4e81-b0f5-cee1f7ef5401",
   "metadata": {
    "tags": []
   },
   "outputs": [
    {
     "data": {
      "image/png": "[encoded data removed]",
      "text/plain": [
       "<Figure size 640x480 with 1 Axes>"
      ]
     },
     "metadata": {},
     "output_type": "display_data"
    }
   ],
   "source": [
    "# plot accuracy during training\n",
    "plt.subplot(212)\n",
    "plt.title('Accuracy')\n",
    "plt.plot(history.history['binary_accuracy'], label='train')\n",
    "plt.plot(history.history['val_binary_accuracy'], label='test')\n",
    "plt.legend()\n",
    "plt.grid()\n",
    "plt.show()"
   ]
  },
  {
   "cell_type": "code",
   "execution_count": 648,
   "id": "162390d7-4bdd-434f-8b86-72f1572948af",
   "metadata": {
    "tags": []
   },
   "outputs": [
    {
     "name": "stdout",
     "output_type": "stream",
     "text": [
      "Train Accuracy: 0.9359\n",
      "Test Accuracy: 0.9860\n",
      "Train Recall: 0.874638\n",
      "Test Recall: 0.874638\n"
     ]
    }
   ],
   "source": [
    "# Evaluate the network\n",
    "train_accuracy = history.history['binary_accuracy'][-1]\n",
    "test_accuracy = history.history['val_binary_accuracy'][-1]\n",
    "\n",
    "train_recall = history.history['recall_109'][-1]\n",
    "test_recall = history.history['val_recall_109'][-1]\n",
    "\n",
    "print(f\"Train Accuracy: {train_accuracy:.4f}\")\n",
    "print(f\"Test Accuracy: {test_accuracy:.4f}\")\n",
    "\n",
    "print(f\"Train Recall: {test_recall:4f}\")\n",
    "print(f\"Test Recall: {test_recall:4f}\")"
   ]
  },
  {
   "cell_type": "code",
   "execution_count": 649,
   "id": "73d91ffb-17ec-4377-bf4b-8eee47a6bd52",
   "metadata": {
    "tags": []
   },
   "outputs": [
    {
     "data": {
      "text/plain": [
       "[0.9358670115470886,\n",
       " 0.9859927892684937,\n",
       " 0.8725127577781677,\n",
       " 0.8746384382247925]"
      ]
     },
     "execution_count": 649,
     "metadata": {},
     "output_type": "execute_result"
    }
   ],
   "source": [
    "# Assuming you have calculated the metrics_train list or array\n",
    "\n",
    "# Assigning to a list\n",
    "metrics = [train_accuracy, test_accuracy, train_recall, test_recall]\n",
    "metrics"
   ]
  },
  {
   "cell_type": "code",
   "execution_count": 650,
   "id": "1b22a1d4-47e0-44a1-b690-e0c3a9733f93",
   "metadata": {
    "tags": []
   },
   "outputs": [
    {
     "name": "stdout",
     "output_type": "stream",
     "text": [
      "               Train Accuracy  Test Accuracy  Train Recall  Test Recall\n",
      "Dense_Network        0.935867       0.985993      0.872513     0.874638\n"
     ]
    }
   ],
   "source": [
    "# Creating a DataFrame with the metrics_train list and setting the index\n",
    "metrics_df = pd.DataFrame([metrics], columns=[\"Train Accuracy\",\"Test Accuracy\", \"Train Recall\", \"Test Recall\"],index=[\"Dense_Network\"])\n",
    "\n",
    "# Printing the DataFrame\n",
    "print(metrics_df)"
   ]
  },
  {
   "cell_type": "code",
   "execution_count": 651,
   "id": "beae81ee-8160-4122-9601-17acf8e2250a",
   "metadata": {
    "tags": []
   },
   "outputs": [],
   "source": [
    "metrics_df.to_csv('Dense_Network.csv')"
   ]
  },
  {
   "cell_type": "markdown",
   "id": "791435ee-989c-4a10-8c61-8a96032295f3",
   "metadata": {},
   "source": [
    "The evaluation results were exported into the CSV file for further analysis."
   ]
  },
  {
   "cell_type": "code",
   "execution_count": null,
   "id": "86476d19-5773-45a3-91bc-b8a661aa0dd3",
   "metadata": {},
   "outputs": [],
   "source": []
  }
 ],
 "metadata": {
  "kernelspec": {
   "display_name": "deeplearning",
   "language": "python",
   "name": "deeplearning"
  },
  "language_info": {
   "codemirror_mode": {
    "name": "ipython",
    "version": 3
   },
   "file_extension": ".py",
   "mimetype": "text/x-python",
   "name": "python",
   "nbconvert_exporter": "python",
   "pygments_lexer": "ipython3",
   "version": "3.8.18"
  }
 },
 "nbformat": 4,
 "nbformat_minor": 5
}
