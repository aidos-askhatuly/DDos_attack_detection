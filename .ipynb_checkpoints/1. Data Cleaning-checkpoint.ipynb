{
 "cells": [
  {
   "cell_type": "markdown",
   "id": "dd773c78-6c7d-441a-9409-549d447e76b1",
   "metadata": {},
   "source": [
    "\n"
   ]
  },
  {
   "cell_type": "markdown",
   "id": "386da16d-778b-461f-bce9-e924abd52f82",
   "metadata": {},
   "source": [
    "# Table of Contents\n",
    "<hr>\n",
    "\n",
    "[1. Introduction](#introduction)  \n",
    "[2. Data Dictionary](#dictionary)  \n",
    "[3. Question of Interest](#question)  \n",
    "[4. Load Data](#load)  \n",
    "[5. Data Cleaning](#cleaning)  \n",
    "- Check Datatypes and Missing Data  \n",
    "- Checking for Duplicate Data  \n"
   ]
  },
  {
   "cell_type": "markdown",
   "id": "01543d32-3a7c-4564-8505-4b4371dd36dd",
   "metadata": {
    "tags": []
   },
   "source": [
    "## 1.Introduction<a name=\"introduction\"></a>\n",
    "<hr>"
   ]
  },
  {
   "cell_type": "markdown",
   "id": "cbfe0c99-cf57-46d3-97d2-5338d0fa2ca1",
   "metadata": {},
   "source": [
    "Traditional methods of DDoS detection often rely on predefined rules and signatures, which can struggle to keep pace with the evolving tactics of attackers. As a result, there is an increasing need for more sophisticated and adaptive approaches to identifying and mitigating these threats. This project explores the application of machine learning techniques to detect DDoS attacks by analyzing network traffic data captured by Wireshark, a widely-used network protocol analyzer."
   ]
  },
  {
   "cell_type": "markdown",
   "id": "aee86419-5eb3-4a77-bd82-c753379ddb07",
   "metadata": {
    "tags": []
   },
   "source": [
    "## 2. Data Dictionary <a name=\"dictionary\"></a>\n",
    "<hr>"
   ]
  },
  {
   "cell_type": "markdown",
   "id": "f61ec91e-e6b3-42d9-b316-47f50aa5ce57",
   "metadata": {},
   "source": [
    "<table>\n",
    "    <tr>\n",
    "        <th>Field Name</th>\n",
    "        <th>Description</th>\n",
    "        <th>Data Type</th>\n",
    "        <th>Data Source</th>\n",
    "    </tr>\n",
    "    <tr>\n",
    "        <td>SRC_ADD</td>\n",
    "        <td>Source(client) IP address</td>\n",
    "        <td>string</td>\n",
    "        <td>Wireshark</td>\n",
    "    </tr>\n",
    "        <tr>\n",
    "        <td>DES_ADD</td>\n",
    "        <td>Destination(server) IP address</td>\n",
    "        <td>string</td>\n",
    "        <td>Wireshark</td>\n",
    "    </tr>\n",
    "    <tr>\n",
    "        <td>PKT_ID</td>\n",
    "        <td>Unique identifier of a network packet</td>\n",
    "        <td>string</td>\n",
    "        <td>Wireshark</td>\n",
    "    </tr>\n",
    "        <tr>\n",
    "        <td>FROM_NODE</td>\n",
    "        <td>Source intermediate node</td>\n",
    "        <td>string</td>\n",
    "        <td>Wireshark</td>\n",
    "    </tr>\n",
    "    <tr>\n",
    "        <td>TO_NODE</td>\n",
    "        <td>Destination intermediate node</td>\n",
    "        <td>string</td>\n",
    "        <td>Wireshark</td>\n",
    "    </tr>\n",
    "        <tr>\n",
    "        <td>PKT_TYPE</td>\n",
    "        <td>Format or structure of a data packet used in network communication</td>\n",
    "        <td>string</td>\n",
    "        <td>Wireshark</td>\n",
    "    </tr>\n",
    "    <tr>\n",
    "        <td>PKT_SIZE</td>\n",
    "        <td>Size of the network packet in bytes</td>\n",
    "        <td>numeric</td>\n",
    "        <td>Wireshark</td>\n",
    "    </tr>\n",
    "    <tr>\n",
    "        <td>FLAG</td>\n",
    "        <td>Specific bits within a packet's header that control or indicate how the packet should be processed</td>\n",
    "        <td>string</td>\n",
    "        <td>Wireshark</td>\n",
    "    </tr>\n",
    "    <tr>\n",
    "        <td>FID</td>\n",
    "        <td>Flow Identifier. A unique identifier associated with a flow of network traffic</td>\n",
    "        <td>numeric</td>\n",
    "        <td>Wireshark</td>\n",
    "    </tr>\n",
    "    <tr>\n",
    "        <td>SEQ_NUMBER</td>\n",
    "        <td>Sequence number of a TCP packet within a TCP connection</td>\n",
    "        <td>numeric</td>\n",
    "        <td>Wireshark</td>\n",
    "    </tr>\n",
    "    <tr>\n",
    "        <td>NUMBER_OF_PKT</td>\n",
    "        <td>The total number of packets transmitted within a flow or connection</td>\n",
    "        <td>numeric</td>\n",
    "        <td>Wireshark</td>\n",
    "    </tr>\n",
    "    <tr>\n",
    "        <td>NUMBER_OF_BYTE</td>\n",
    "        <td>The total number of bytes transmitted within a flow or connection</td>\n",
    "        <td>numeric</td>\n",
    "        <td>Wireshark</td>\n",
    "    </tr>\n",
    "    <tr>\n",
    "        <td>NODE_NAME_FROM</td>\n",
    "        <td>Name of the intermediary node sending packages</td>\n",
    "        <td>string</td>\n",
    "        <td>Wireshark</td>\n",
    "    </tr>\n",
    "    <tr>\n",
    "        <td>NODE_NAME_TO</td>\n",
    "        <td>Name of the intermediary node receiving packages</td>\n",
    "        <td>string</td>\n",
    "        <td>Wireshark</td>\n",
    "    </tr>\n",
    "    <tr>\n",
    "        <td>PKT_IN</td>\n",
    "        <td>Time when a packet was sent from a node</td>\n",
    "        <td>datetime</td>\n",
    "        <td>Wireshark</td>\n",
    "    </tr>\n",
    "    <tr>\n",
    "        <td>PKT_OUT</td>\n",
    "        <td>Time when a packet was received by a node</td>\n",
    "        <td>datetime</td>\n",
    "        <td>Wireshark</td>\n",
    "    </tr>\n",
    "    <tr>\n",
    "        <td>PKT_R</td>\n",
    "        <td>Unknown but values are similar to Packet_Received_Time</td>\n",
    "        <td>datetime</td>\n",
    "        <td>Wireshark</td>\n",
    "    </tr>\n",
    "    <tr>\n",
    "        <td>PKT_DELAY_NODE</td>\n",
    "        <td>Travel time to specifc node</td>\n",
    "        <td>datetime</td>\n",
    "        <td>Wireshark</td>\n",
    "    </tr>\n",
    "    <tr>\n",
    "        <td>PKT_RATE</td>\n",
    "        <td>Packet transmission rate, measured in packets per second</td>\n",
    "        <td>numeric</td>\n",
    "        <td>Wireshark</td>\n",
    "    </tr>\n",
    "    <tr>\n",
    "        <td>BYTE_RATE</td>\n",
    "        <td>The rate at which bytes are transmitted or received, measured in bytes per second</td>\n",
    "        <td>numeric</td>\n",
    "        <td>Wireshark</td>\n",
    "    </tr>\n",
    "    <tr>\n",
    "        <td>PKT_AVG_SIZE</td>\n",
    "        <td>Average size of data per packet</td>\n",
    "        <td>numeric</td>\n",
    "        <td>Wireshark</td>\n",
    "    </tr>\n",
    "    <tr>\n",
    "        <td>UTILIZATION</td>\n",
    "        <td>A degree to which the network link is being used</td>\n",
    "        <td>numeric</td>\n",
    "        <td>Wireshark</td>\n",
    "    </tr>\n",
    "    <tr>\n",
    "        <td>PKT_DELAY</td>\n",
    "        <td>Total travel time from source to destination</td>\n",
    "        <td>numeric</td>\n",
    "        <td>Wireshark</td>\n",
    "    </tr>\n",
    "    <tr>\n",
    "        <td>PKT_SEND_TIME</td>\n",
    "        <td>Time at which a packet was sent from source</td>\n",
    "        <td>datetime</td>\n",
    "        <td>Wireshark</td>\n",
    "    </tr>\n",
    "    <tr>\n",
    "        <td>PKT_RECEIVED</td>\n",
    "        <td>Time at which a packet was received at destination</td>\n",
    "        <td>datetime</td>\n",
    "        <td>Wireshark</td>\n",
    "    </tr>\n",
    "    <tr>\n",
    "        <td>FIRST_PKT_SENT</td>\n",
    "        <td>Time when the first packet sent</td>\n",
    "        <td>datetime</td>\n",
    "        <td>Wireshark</td>\n",
    "    </tr>\n",
    "    <tr>\n",
    "        <td>LAST_PKT_RECEIVED</td>\n",
    "        <td>Time when the last packet received</td>\n",
    "        <td>datetime</td>\n",
    "        <td>Wireshark</td>\n",
    "    </tr>\n",
    "    <tr>\n",
    "        <td>PKT_CLASS</td>\n",
    "        <td>Target value indicating class of the packet</td>\n",
    "        <td>boolean</td>\n",
    "        <td>Wireshark</td>\n",
    "    </tr>\n",
    "</table>"
   ]
  },
  {
   "cell_type": "markdown",
   "id": "d258a680-9e74-4700-8956-dcf24844d5d2",
   "metadata": {
    "tags": []
   },
   "source": [
    "#### Field of interest\n",
    "- PKT_CLASS. Packet class. Target value indicating class of the packet."
   ]
  },
  {
   "cell_type": "markdown",
   "id": "3d3c1afb-aa5d-4274-b53f-3a7d299c8994",
   "metadata": {},
   "source": [
    "## 3.Question of Interest <a name=\"question\"></a>\n",
    "<hr>\n",
    "How to identify malicious traffic that intends to disrupt the normal operation of a network, service, or website. The goal of network attack is to overwhelm the target with a flood of traffic, making it inaccessible to legitimate users."
   ]
  },
  {
   "cell_type": "markdown",
   "id": "0dafecfb-4d7b-457c-819f-98b1e85b82d3",
   "metadata": {
    "tags": []
   },
   "source": [
    "## 4. Load Data <a name=\"load\"></a>\n",
    "<hr>"
   ]
  },
  {
   "cell_type": "code",
   "execution_count": 21,
   "id": "76140fb9-0ba5-40b8-b3de-ba8a57ab539a",
   "metadata": {
    "tags": []
   },
   "outputs": [],
   "source": [
    "import pandas as pd"
   ]
  },
  {
   "cell_type": "code",
   "execution_count": 22,
   "id": "9316b5e7-8466-4b58-a233-a21c72a45693",
   "metadata": {
    "tags": []
   },
   "outputs": [],
   "source": [
    "network_df = pd.read_csv(\"datasets/final-dataset.csv\")"
   ]
  },
  {
   "cell_type": "code",
   "execution_count": 23,
   "id": "90e6556f-044b-4bc7-93f3-96d16c0a1fb5",
   "metadata": {
    "tags": []
   },
   "outputs": [
    {
     "data": {
      "text/html": [
       "<div>\n",
       "<style scoped>\n",
       "    .dataframe tbody tr th:only-of-type {\n",
       "        vertical-align: middle;\n",
       "    }\n",
       "\n",
       "    .dataframe tbody tr th {\n",
       "        vertical-align: top;\n",
       "    }\n",
       "\n",
       "    .dataframe thead th {\n",
       "        text-align: right;\n",
       "    }\n",
       "</style>\n",
       "<table border=\"1\" class=\"dataframe\">\n",
       "  <thead>\n",
       "    <tr style=\"text-align: right;\">\n",
       "      <th></th>\n",
       "      <th>SRC_ADD</th>\n",
       "      <th>DES_ADD</th>\n",
       "      <th>PKT_ID</th>\n",
       "      <th>FROM_NODE</th>\n",
       "      <th>TO_NODE</th>\n",
       "      <th>PKT_TYPE</th>\n",
       "      <th>PKT_SIZE</th>\n",
       "      <th>FLAGS</th>\n",
       "      <th>FID</th>\n",
       "      <th>SEQ_NUMBER</th>\n",
       "      <th>...</th>\n",
       "      <th>PKT_RATE</th>\n",
       "      <th>BYTE_RATE</th>\n",
       "      <th>PKT_AVG_SIZE</th>\n",
       "      <th>UTILIZATION</th>\n",
       "      <th>PKT_DELAY</th>\n",
       "      <th>PKT_SEND_TIME</th>\n",
       "      <th>PKT_RESEVED_TIME</th>\n",
       "      <th>FIRST_PKT_SENT</th>\n",
       "      <th>LAST_PKT_RESEVED</th>\n",
       "      <th>PKT_CLASS</th>\n",
       "    </tr>\n",
       "  </thead>\n",
       "  <tbody>\n",
       "    <tr>\n",
       "      <th>0</th>\n",
       "      <td>3.00</td>\n",
       "      <td>24.30</td>\n",
       "      <td>389693</td>\n",
       "      <td>21</td>\n",
       "      <td>23</td>\n",
       "      <td>tcp</td>\n",
       "      <td>1540</td>\n",
       "      <td>-------</td>\n",
       "      <td>4</td>\n",
       "      <td>11339</td>\n",
       "      <td>...</td>\n",
       "      <td>328.240918</td>\n",
       "      <td>505490.0</td>\n",
       "      <td>1540.0</td>\n",
       "      <td>0.236321</td>\n",
       "      <td>0.0</td>\n",
       "      <td>35.519662</td>\n",
       "      <td>35.550032</td>\n",
       "      <td>1.000000</td>\n",
       "      <td>50.021920</td>\n",
       "      <td>Normal</td>\n",
       "    </tr>\n",
       "    <tr>\n",
       "      <th>1</th>\n",
       "      <td>15.00</td>\n",
       "      <td>24.15</td>\n",
       "      <td>201196</td>\n",
       "      <td>23</td>\n",
       "      <td>24</td>\n",
       "      <td>tcp</td>\n",
       "      <td>1540</td>\n",
       "      <td>-------</td>\n",
       "      <td>16</td>\n",
       "      <td>6274</td>\n",
       "      <td>...</td>\n",
       "      <td>328.205808</td>\n",
       "      <td>505437.0</td>\n",
       "      <td>1540.0</td>\n",
       "      <td>0.236337</td>\n",
       "      <td>0.0</td>\n",
       "      <td>20.156478</td>\n",
       "      <td>20.186848</td>\n",
       "      <td>1.000000</td>\n",
       "      <td>50.030211</td>\n",
       "      <td>Normal</td>\n",
       "    </tr>\n",
       "    <tr>\n",
       "      <th>2</th>\n",
       "      <td>24.15</td>\n",
       "      <td>15.00</td>\n",
       "      <td>61905</td>\n",
       "      <td>23</td>\n",
       "      <td>22</td>\n",
       "      <td>ack</td>\n",
       "      <td>55</td>\n",
       "      <td>-------</td>\n",
       "      <td>16</td>\n",
       "      <td>1930</td>\n",
       "      <td>...</td>\n",
       "      <td>328.206042</td>\n",
       "      <td>18051.3</td>\n",
       "      <td>55.0</td>\n",
       "      <td>0.008441</td>\n",
       "      <td>0.0</td>\n",
       "      <td>7.039952</td>\n",
       "      <td>7.069962</td>\n",
       "      <td>1.030045</td>\n",
       "      <td>50.060221</td>\n",
       "      <td>UDP-Flood</td>\n",
       "    </tr>\n",
       "    <tr>\n",
       "      <th>3</th>\n",
       "      <td>24.90</td>\n",
       "      <td>9.00</td>\n",
       "      <td>443135</td>\n",
       "      <td>23</td>\n",
       "      <td>21</td>\n",
       "      <td>ack</td>\n",
       "      <td>55</td>\n",
       "      <td>-------</td>\n",
       "      <td>10</td>\n",
       "      <td>12670</td>\n",
       "      <td>...</td>\n",
       "      <td>328.064183</td>\n",
       "      <td>18043.5</td>\n",
       "      <td>55.0</td>\n",
       "      <td>0.008437</td>\n",
       "      <td>0.0</td>\n",
       "      <td>39.617967</td>\n",
       "      <td>39.647976</td>\n",
       "      <td>1.030058</td>\n",
       "      <td>50.060098</td>\n",
       "      <td>Normal</td>\n",
       "    </tr>\n",
       "    <tr>\n",
       "      <th>4</th>\n",
       "      <td>24.80</td>\n",
       "      <td>8.00</td>\n",
       "      <td>157335</td>\n",
       "      <td>23</td>\n",
       "      <td>21</td>\n",
       "      <td>ack</td>\n",
       "      <td>55</td>\n",
       "      <td>-------</td>\n",
       "      <td>9</td>\n",
       "      <td>4901</td>\n",
       "      <td>...</td>\n",
       "      <td>328.113525</td>\n",
       "      <td>18046.2</td>\n",
       "      <td>55.0</td>\n",
       "      <td>0.008438</td>\n",
       "      <td>0.0</td>\n",
       "      <td>16.029803</td>\n",
       "      <td>16.059813</td>\n",
       "      <td>1.030054</td>\n",
       "      <td>50.061864</td>\n",
       "      <td>Normal</td>\n",
       "    </tr>\n",
       "  </tbody>\n",
       "</table>\n",
       "<p>5 rows × 28 columns</p>\n",
       "</div>"
      ],
      "text/plain": [
       "   SRC_ADD  DES_ADD  PKT_ID  FROM_NODE  TO_NODE PKT_TYPE  PKT_SIZE    FLAGS  \\\n",
       "0     3.00    24.30  389693         21       23      tcp      1540  -------   \n",
       "1    15.00    24.15  201196         23       24      tcp      1540  -------   \n",
       "2    24.15    15.00   61905         23       22      ack        55  -------   \n",
       "3    24.90     9.00  443135         23       21      ack        55  -------   \n",
       "4    24.80     8.00  157335         23       21      ack        55  -------   \n",
       "\n",
       "   FID  SEQ_NUMBER  ...    PKT_RATE  BYTE_RATE PKT_AVG_SIZE UTILIZATION  \\\n",
       "0    4       11339  ...  328.240918   505490.0       1540.0    0.236321   \n",
       "1   16        6274  ...  328.205808   505437.0       1540.0    0.236337   \n",
       "2   16        1930  ...  328.206042    18051.3         55.0    0.008441   \n",
       "3   10       12670  ...  328.064183    18043.5         55.0    0.008437   \n",
       "4    9        4901  ...  328.113525    18046.2         55.0    0.008438   \n",
       "\n",
       "   PKT_DELAY  PKT_SEND_TIME  PKT_RESEVED_TIME  FIRST_PKT_SENT  \\\n",
       "0        0.0      35.519662         35.550032        1.000000   \n",
       "1        0.0      20.156478         20.186848        1.000000   \n",
       "2        0.0       7.039952          7.069962        1.030045   \n",
       "3        0.0      39.617967         39.647976        1.030058   \n",
       "4        0.0      16.029803         16.059813        1.030054   \n",
       "\n",
       "   LAST_PKT_RESEVED  PKT_CLASS  \n",
       "0         50.021920     Normal  \n",
       "1         50.030211     Normal  \n",
       "2         50.060221  UDP-Flood  \n",
       "3         50.060098     Normal  \n",
       "4         50.061864     Normal  \n",
       "\n",
       "[5 rows x 28 columns]"
      ]
     },
     "execution_count": 23,
     "metadata": {},
     "output_type": "execute_result"
    }
   ],
   "source": [
    "network_df.head()"
   ]
  },
  {
   "cell_type": "markdown",
   "id": "32af0e26-fea6-4a78-84e5-075d3e6e3a9a",
   "metadata": {
    "tags": []
   },
   "source": [
    "## 5. Data Cleaning <a name=\"cleaning\"></a>\n",
    "<hr>\n",
    "\n",
    "Wireshark has provided the snapshot of network traffic. First, let's take a look at what we're working with, and assess the level of cleaning and preprocessing that needs to be done."
   ]
  },
  {
   "cell_type": "code",
   "execution_count": 24,
   "id": "4a385540-5f71-4afc-99e0-1f8f91825e68",
   "metadata": {
    "tags": []
   },
   "outputs": [],
   "source": [
    "# Importing libraries\n",
    "import numpy as np\n",
    "import matplotlib.pyplot as plt\n",
    "import seaborn as sns"
   ]
  },
  {
   "cell_type": "code",
   "execution_count": 25,
   "id": "06b9f77d-ffde-475f-87e6-d772e116b902",
   "metadata": {
    "tags": []
   },
   "outputs": [
    {
     "data": {
      "text/html": [
       "<div>\n",
       "<style scoped>\n",
       "    .dataframe tbody tr th:only-of-type {\n",
       "        vertical-align: middle;\n",
       "    }\n",
       "\n",
       "    .dataframe tbody tr th {\n",
       "        vertical-align: top;\n",
       "    }\n",
       "\n",
       "    .dataframe thead th {\n",
       "        text-align: right;\n",
       "    }\n",
       "</style>\n",
       "<table border=\"1\" class=\"dataframe\">\n",
       "  <thead>\n",
       "    <tr style=\"text-align: right;\">\n",
       "      <th></th>\n",
       "      <th>SRC_ADD</th>\n",
       "      <th>DES_ADD</th>\n",
       "      <th>PKT_ID</th>\n",
       "      <th>FROM_NODE</th>\n",
       "      <th>TO_NODE</th>\n",
       "      <th>PKT_TYPE</th>\n",
       "      <th>PKT_SIZE</th>\n",
       "      <th>FLAGS</th>\n",
       "      <th>FID</th>\n",
       "      <th>SEQ_NUMBER</th>\n",
       "      <th>...</th>\n",
       "      <th>PKT_RATE</th>\n",
       "      <th>BYTE_RATE</th>\n",
       "      <th>PKT_AVG_SIZE</th>\n",
       "      <th>UTILIZATION</th>\n",
       "      <th>PKT_DELAY</th>\n",
       "      <th>PKT_SEND_TIME</th>\n",
       "      <th>PKT_RESEVED_TIME</th>\n",
       "      <th>FIRST_PKT_SENT</th>\n",
       "      <th>LAST_PKT_RESEVED</th>\n",
       "      <th>PKT_CLASS</th>\n",
       "    </tr>\n",
       "  </thead>\n",
       "  <tbody>\n",
       "    <tr>\n",
       "      <th>0</th>\n",
       "      <td>3.00</td>\n",
       "      <td>24.30</td>\n",
       "      <td>389693</td>\n",
       "      <td>21</td>\n",
       "      <td>23</td>\n",
       "      <td>tcp</td>\n",
       "      <td>1540</td>\n",
       "      <td>-------</td>\n",
       "      <td>4</td>\n",
       "      <td>11339</td>\n",
       "      <td>...</td>\n",
       "      <td>328.240918</td>\n",
       "      <td>505490.0</td>\n",
       "      <td>1540.0</td>\n",
       "      <td>0.236321</td>\n",
       "      <td>0.0</td>\n",
       "      <td>35.519662</td>\n",
       "      <td>35.550032</td>\n",
       "      <td>1.000000</td>\n",
       "      <td>50.021920</td>\n",
       "      <td>Normal</td>\n",
       "    </tr>\n",
       "    <tr>\n",
       "      <th>1</th>\n",
       "      <td>15.00</td>\n",
       "      <td>24.15</td>\n",
       "      <td>201196</td>\n",
       "      <td>23</td>\n",
       "      <td>24</td>\n",
       "      <td>tcp</td>\n",
       "      <td>1540</td>\n",
       "      <td>-------</td>\n",
       "      <td>16</td>\n",
       "      <td>6274</td>\n",
       "      <td>...</td>\n",
       "      <td>328.205808</td>\n",
       "      <td>505437.0</td>\n",
       "      <td>1540.0</td>\n",
       "      <td>0.236337</td>\n",
       "      <td>0.0</td>\n",
       "      <td>20.156478</td>\n",
       "      <td>20.186848</td>\n",
       "      <td>1.000000</td>\n",
       "      <td>50.030211</td>\n",
       "      <td>Normal</td>\n",
       "    </tr>\n",
       "    <tr>\n",
       "      <th>2</th>\n",
       "      <td>24.15</td>\n",
       "      <td>15.00</td>\n",
       "      <td>61905</td>\n",
       "      <td>23</td>\n",
       "      <td>22</td>\n",
       "      <td>ack</td>\n",
       "      <td>55</td>\n",
       "      <td>-------</td>\n",
       "      <td>16</td>\n",
       "      <td>1930</td>\n",
       "      <td>...</td>\n",
       "      <td>328.206042</td>\n",
       "      <td>18051.3</td>\n",
       "      <td>55.0</td>\n",
       "      <td>0.008441</td>\n",
       "      <td>0.0</td>\n",
       "      <td>7.039952</td>\n",
       "      <td>7.069962</td>\n",
       "      <td>1.030045</td>\n",
       "      <td>50.060221</td>\n",
       "      <td>UDP-Flood</td>\n",
       "    </tr>\n",
       "    <tr>\n",
       "      <th>3</th>\n",
       "      <td>24.90</td>\n",
       "      <td>9.00</td>\n",
       "      <td>443135</td>\n",
       "      <td>23</td>\n",
       "      <td>21</td>\n",
       "      <td>ack</td>\n",
       "      <td>55</td>\n",
       "      <td>-------</td>\n",
       "      <td>10</td>\n",
       "      <td>12670</td>\n",
       "      <td>...</td>\n",
       "      <td>328.064183</td>\n",
       "      <td>18043.5</td>\n",
       "      <td>55.0</td>\n",
       "      <td>0.008437</td>\n",
       "      <td>0.0</td>\n",
       "      <td>39.617967</td>\n",
       "      <td>39.647976</td>\n",
       "      <td>1.030058</td>\n",
       "      <td>50.060098</td>\n",
       "      <td>Normal</td>\n",
       "    </tr>\n",
       "    <tr>\n",
       "      <th>4</th>\n",
       "      <td>24.80</td>\n",
       "      <td>8.00</td>\n",
       "      <td>157335</td>\n",
       "      <td>23</td>\n",
       "      <td>21</td>\n",
       "      <td>ack</td>\n",
       "      <td>55</td>\n",
       "      <td>-------</td>\n",
       "      <td>9</td>\n",
       "      <td>4901</td>\n",
       "      <td>...</td>\n",
       "      <td>328.113525</td>\n",
       "      <td>18046.2</td>\n",
       "      <td>55.0</td>\n",
       "      <td>0.008438</td>\n",
       "      <td>0.0</td>\n",
       "      <td>16.029803</td>\n",
       "      <td>16.059813</td>\n",
       "      <td>1.030054</td>\n",
       "      <td>50.061864</td>\n",
       "      <td>Normal</td>\n",
       "    </tr>\n",
       "  </tbody>\n",
       "</table>\n",
       "<p>5 rows × 28 columns</p>\n",
       "</div>"
      ],
      "text/plain": [
       "   SRC_ADD  DES_ADD  PKT_ID  FROM_NODE  TO_NODE PKT_TYPE  PKT_SIZE    FLAGS  \\\n",
       "0     3.00    24.30  389693         21       23      tcp      1540  -------   \n",
       "1    15.00    24.15  201196         23       24      tcp      1540  -------   \n",
       "2    24.15    15.00   61905         23       22      ack        55  -------   \n",
       "3    24.90     9.00  443135         23       21      ack        55  -------   \n",
       "4    24.80     8.00  157335         23       21      ack        55  -------   \n",
       "\n",
       "   FID  SEQ_NUMBER  ...    PKT_RATE  BYTE_RATE PKT_AVG_SIZE UTILIZATION  \\\n",
       "0    4       11339  ...  328.240918   505490.0       1540.0    0.236321   \n",
       "1   16        6274  ...  328.205808   505437.0       1540.0    0.236337   \n",
       "2   16        1930  ...  328.206042    18051.3         55.0    0.008441   \n",
       "3   10       12670  ...  328.064183    18043.5         55.0    0.008437   \n",
       "4    9        4901  ...  328.113525    18046.2         55.0    0.008438   \n",
       "\n",
       "   PKT_DELAY  PKT_SEND_TIME  PKT_RESEVED_TIME  FIRST_PKT_SENT  \\\n",
       "0        0.0      35.519662         35.550032        1.000000   \n",
       "1        0.0      20.156478         20.186848        1.000000   \n",
       "2        0.0       7.039952          7.069962        1.030045   \n",
       "3        0.0      39.617967         39.647976        1.030058   \n",
       "4        0.0      16.029803         16.059813        1.030054   \n",
       "\n",
       "   LAST_PKT_RESEVED  PKT_CLASS  \n",
       "0         50.021920     Normal  \n",
       "1         50.030211     Normal  \n",
       "2         50.060221  UDP-Flood  \n",
       "3         50.060098     Normal  \n",
       "4         50.061864     Normal  \n",
       "\n",
       "[5 rows x 28 columns]"
      ]
     },
     "execution_count": 25,
     "metadata": {},
     "output_type": "execute_result"
    }
   ],
   "source": [
    "# Check\n",
    "network_df.head()"
   ]
  },
  {
   "cell_type": "code",
   "execution_count": 26,
   "id": "b087a9a1-ddb4-4e06-8cb5-2a1b99ff9d85",
   "metadata": {
    "tags": []
   },
   "outputs": [
    {
     "name": "stdout",
     "output_type": "stream",
     "text": [
      "Our dataframe has 2160668 rows and 28 columns.\n"
     ]
    }
   ],
   "source": [
    "# How much data are we working with here?\n",
    "print(f'Our dataframe has {network_df.shape[0]} rows and {network_df.shape[1]} columns.')"
   ]
  },
  {
   "cell_type": "markdown",
   "id": "4dd85873-9035-4755-b940-ee8b56615330",
   "metadata": {
    "tags": []
   },
   "source": [
    "There are `2 160 668` entries and `28` attributes. There is no unique packet identifier since `PKT_ID` has duplicates as a packet travels accross various network devices (nodes) to get to the destination and each travel is the seperate entry in the dataset. We will proceed with caution, and check for duplicates in the data.\n",
    "\n",
    "Next steps:\n",
    "\n",
    "- Check datatypes and formats\n",
    "- Check for duplicate data (is the data unique on the row and column level?)\n",
    "- Check for missing data"
   ]
  },
  {
   "cell_type": "markdown",
   "id": "0f0396cd-3727-4468-b5f8-2311879d38ca",
   "metadata": {
    "tags": []
   },
   "source": [
    "### Check Datatypes and Missing Data"
   ]
  },
  {
   "cell_type": "markdown",
   "id": "617d67ad-d1d6-4ea0-bd48-2bda92202787",
   "metadata": {},
   "source": [
    "First we will investigate the structure and format of the data to make sure that nothing is missed."
   ]
  },
  {
   "cell_type": "markdown",
   "id": "6b2a6472-c7c2-4d0f-84a1-29d533576cb1",
   "metadata": {
    "tags": []
   },
   "source": [
    "We see a variety of numerical (int/float) and non-numeric columns. Furthermore:"
   ]
  },
  {
   "cell_type": "code",
   "execution_count": 27,
   "id": "c2c33a1e-2c75-4b1f-9afe-43023aad34da",
   "metadata": {
    "tags": []
   },
   "outputs": [
    {
     "name": "stdout",
     "output_type": "stream",
     "text": [
      "<class 'pandas.core.frame.DataFrame'>\n",
      "RangeIndex: 2160668 entries, 0 to 2160667\n",
      "Data columns (total 28 columns):\n",
      " #   Column            Dtype  \n",
      "---  ------            -----  \n",
      " 0   SRC_ADD           float64\n",
      " 1   DES_ADD           float64\n",
      " 2   PKT_ID            int64  \n",
      " 3   FROM_NODE         int64  \n",
      " 4   TO_NODE           int64  \n",
      " 5   PKT_TYPE          object \n",
      " 6   PKT_SIZE          int64  \n",
      " 7   FLAGS             object \n",
      " 8   FID               int64  \n",
      " 9   SEQ_NUMBER        int64  \n",
      " 10  NUMBER_OF_PKT     int64  \n",
      " 11  NUMBER_OF_BYTE    int64  \n",
      " 12  NODE_NAME_FROM    object \n",
      " 13  NODE_NAME_TO      object \n",
      " 14  PKT_IN            float64\n",
      " 15  PKT_OUT           float64\n",
      " 16  PKT_R             float64\n",
      " 17  PKT_DELAY_NODE    float64\n",
      " 18  PKT_RATE          float64\n",
      " 19  BYTE_RATE         float64\n",
      " 20  PKT_AVG_SIZE      float64\n",
      " 21  UTILIZATION       float64\n",
      " 22  PKT_DELAY         float64\n",
      " 23  PKT_SEND_TIME     float64\n",
      " 24  PKT_RESEVED_TIME  float64\n",
      " 25  FIRST_PKT_SENT    float64\n",
      " 26  LAST_PKT_RESEVED  float64\n",
      " 27  PKT_CLASS         object \n",
      "dtypes: float64(15), int64(8), object(5)\n",
      "memory usage: 461.6+ MB\n"
     ]
    }
   ],
   "source": [
    "network_df.info()"
   ]
  },
  {
   "cell_type": "code",
   "execution_count": 28,
   "id": "c04928bb-ab1b-41d5-9dc9-80b7758d2bea",
   "metadata": {
    "tags": []
   },
   "outputs": [
    {
     "name": "stdout",
     "output_type": "stream",
     "text": [
      "Number of null or empty columns:\n",
      "SRC_ADD             0\n",
      "DES_ADD             0\n",
      "PKT_ID              0\n",
      "FROM_NODE           0\n",
      "TO_NODE             0\n",
      "PKT_TYPE            0\n",
      "PKT_SIZE            0\n",
      "FLAGS               0\n",
      "FID                 0\n",
      "SEQ_NUMBER          0\n",
      "NUMBER_OF_PKT       0\n",
      "NUMBER_OF_BYTE      0\n",
      "NODE_NAME_FROM      0\n",
      "NODE_NAME_TO        0\n",
      "PKT_IN              0\n",
      "PKT_OUT             0\n",
      "PKT_R               0\n",
      "PKT_DELAY_NODE      0\n",
      "PKT_RATE            0\n",
      "BYTE_RATE           0\n",
      "PKT_AVG_SIZE        0\n",
      "UTILIZATION         0\n",
      "PKT_DELAY           0\n",
      "PKT_SEND_TIME       0\n",
      "PKT_RESEVED_TIME    0\n",
      "FIRST_PKT_SENT      0\n",
      "LAST_PKT_RESEVED    0\n",
      "PKT_CLASS           0\n",
      "dtype: int64\n"
     ]
    }
   ],
   "source": [
    "# Count the number of null or empty values in each column\n",
    "null_columns = network_df.isnull().sum()  # Count null values in each column\n",
    "empty_columns = (network_df == '').sum()  # Count empty values in each column\n",
    "\n",
    "# Total number of null or empty values in each column\n",
    "total_null_empty_columns = null_columns + empty_columns\n",
    "\n",
    "print(\"Number of null or empty columns:\")\n",
    "print(total_null_empty_columns)"
   ]
  },
  {
   "cell_type": "markdown",
   "id": "febbaf59-7711-4ac2-8078-724951d141ed",
   "metadata": {},
   "source": [
    "<font color='red'> No null or empty values. </font>"
   ]
  },
  {
   "cell_type": "markdown",
   "id": "002cfea7-2d3b-48d9-a3ad-13e7e7999db5",
   "metadata": {
    "tags": []
   },
   "source": [
    "### Checking for Duplicate Data"
   ]
  },
  {
   "cell_type": "markdown",
   "id": "2ccbe60f-d999-4f0f-acc7-2cf958f34e8d",
   "metadata": {},
   "source": [
    "Now that the data appears sufficiently clean, we will check for duplicate data. First, on the row level."
   ]
  },
  {
   "cell_type": "code",
   "execution_count": 29,
   "id": "9ab711a8-605b-4e63-8a98-624cc59d0849",
   "metadata": {
    "tags": []
   },
   "outputs": [
    {
     "data": {
      "text/plain": [
       "0"
      ]
     },
     "execution_count": 29,
     "metadata": {},
     "output_type": "execute_result"
    }
   ],
   "source": [
    "# Checking for duplicates and counting\n",
    "network_df.duplicated().sum()"
   ]
  },
  {
   "cell_type": "markdown",
   "id": "096baa2e-7096-4633-b828-c9405d280afb",
   "metadata": {},
   "source": [
    "**There are no duplicate rows in the dataset.**"
   ]
  },
  {
   "cell_type": "markdown",
   "id": "8ea9079f-a6c5-42a6-9ad2-f796b7f082fd",
   "metadata": {},
   "source": [
    "Let us also be thorough and check that no two columns also contain the same information."
   ]
  },
  {
   "cell_type": "code",
   "execution_count": 37,
   "id": "81cf1aec-24ff-4d86-a970-7be0af2ccd5e",
   "metadata": {
    "tags": []
   },
   "outputs": [
    {
     "name": "stdout",
     "output_type": "stream",
     "text": [
      "No identical columns found.\n"
     ]
    }
   ],
   "source": [
    "#We can check if all columns in a DataFrame are unique using the nunique() method.\n",
    "\n",
    "# Check if all columns are unique\n",
    "check_unique_columns(network_df)"
   ]
  },
  {
   "cell_type": "code",
   "execution_count": 36,
   "id": "7742fa24-e5e0-4fcb-afb6-f5808f29cc54",
   "metadata": {},
   "outputs": [],
   "source": [
    "def check_unique_columns(df):\n",
    "    n = len(df.columns)\n",
    "    identical_columns = []\n",
    "    \n",
    "    for i in range(n):\n",
    "        for j in range(i + 1, n):\n",
    "            col1 = df.iloc[:, i]\n",
    "            col2 = df.iloc[:, j]\n",
    "            if col1.equals(col2):\n",
    "                identical_columns.append((df.columns[i], df.columns[j]))\n",
    "    \n",
    "    if identical_columns:\n",
    "        print(\"Identical columns found:\")\n",
    "        for col_pair in identical_columns:\n",
    "            print(f\"Columns {col_pair[0]} and {col_pair[1]} are identical.\")\n",
    "    else:\n",
    "        print(\"No identical columns found.\")"
   ]
  },
  {
   "cell_type": "code",
   "execution_count": null,
   "id": "e082048f-c5e8-468b-942c-6bb66c4edb75",
   "metadata": {},
   "outputs": [],
   "source": []
  }
 ],
 "metadata": {
  "kernelspec": {
   "display_name": "capstone-env",
   "language": "python",
   "name": "capstone-env"
  },
  "language_info": {
   "codemirror_mode": {
    "name": "ipython",
    "version": 3
   },
   "file_extension": ".py",
   "mimetype": "text/x-python",
   "name": "python",
   "nbconvert_exporter": "python",
   "pygments_lexer": "ipython3",
   "version": "3.10.12"
  }
 },
 "nbformat": 4,
 "nbformat_minor": 5
}
